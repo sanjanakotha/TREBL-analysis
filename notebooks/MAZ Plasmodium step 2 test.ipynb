{
 "cells": [
  {
   "cell_type": "code",
   "execution_count": 2,
   "id": "0ff04114-c1c3-4dfc-b24f-adb82c143998",
   "metadata": {},
   "outputs": [],
   "source": [
    "%load_ext autoreload\n",
    "%autoreload 2"
   ]
  },
  {
   "cell_type": "code",
   "execution_count": 3,
   "id": "5feee1c9-0c6d-4f0a-936c-e60cf2c9223a",
   "metadata": {},
   "outputs": [],
   "source": [
    "import dask.dataframe as dd\n",
    "import pandas as pd\n",
    "import numpy as np\n",
    "import subprocess\n",
    "import dask.dataframe as dd\n",
    "from dask.diagnostics import ProgressBar\n",
    "from Bio.Seq import Seq\n",
    "from dask.distributed import wait\n",
    "from dask.distributed import Client\n",
    "import os\n",
    "\n",
    "sys.path.append(\"../scripts\")\n",
    "%aimport initial_map\n",
    "%aimport map_refiner\n",
    "%aimport complexity\n",
    "%aimport finder\n",
    "%aimport preprocess\n",
    "\n",
    "import glob\n",
    "from tqdm import tqdm  # progress bar"
   ]
  },
  {
   "cell_type": "code",
   "execution_count": 4,
   "id": "e5260b60-c41f-4f23-a8c5-f2a015188f40",
   "metadata": {},
   "outputs": [],
   "source": [
    "import duckdb\n",
    "from concurrent.futures import ThreadPoolExecutor, as_completed"
   ]
  },
  {
   "cell_type": "markdown",
   "id": "a6ddd308-858c-4685-87fe-293f3fad8099",
   "metadata": {},
   "source": [
    "# intial map"
   ]
  },
  {
   "cell_type": "code",
   "execution_count": 6,
   "id": "c2984b29-6654-496a-a75d-89b2d7661b63",
   "metadata": {},
   "outputs": [
    {
     "data": {
      "text/plain": [
       "['/global/scratch/projects/fc_mvslab/data/sequencing/czb_new_sept2025/Marissa/results/Plasm_step1_S1.fastq.gz.assembled.fastq']"
      ]
     },
     "execution_count": 6,
     "metadata": {},
     "output_type": "execute_result"
    }
   ],
   "source": [
    "glob.glob(\"/global/scratch/projects/fc_mvslab/data/sequencing/czb_new_sept2025/Marissa/results/Plasm_step1*.assembled.*\")"
   ]
  },
  {
   "cell_type": "code",
   "execution_count": 7,
   "id": "4c848486-9d7c-41b9-aacc-b27ed1975bf3",
   "metadata": {},
   "outputs": [
    {
     "name": "stdout",
     "output_type": "stream",
     "text": [
      "fastq file detected. Will shorten to txt file and save at ../data/plasm_step1_reads_shortened.txt\n"
     ]
    },
    {
     "data": {
      "text/html": [
       "<div>\n",
       "<style scoped>\n",
       "    .dataframe tbody tr th:only-of-type {\n",
       "        vertical-align: middle;\n",
       "    }\n",
       "\n",
       "    .dataframe tbody tr th {\n",
       "        vertical-align: top;\n",
       "    }\n",
       "\n",
       "    .dataframe thead th {\n",
       "        text-align: right;\n",
       "    }\n",
       "</style>\n",
       "<table border=\"1\" class=\"dataframe\">\n",
       "  <thead>\n",
       "    <tr style=\"text-align: right;\">\n",
       "      <th></th>\n",
       "      <th>AD</th>\n",
       "      <th>AD_qual</th>\n",
       "      <th>AD_BC</th>\n",
       "      <th>AD_BC_qual</th>\n",
       "      <th>RPTR_BC</th>\n",
       "      <th>RPTR_BC_qual</th>\n",
       "      <th>Designed</th>\n",
       "    </tr>\n",
       "  </thead>\n",
       "  <tbody>\n",
       "    <tr>\n",
       "      <th>0</th>\n",
       "      <td>AATCATCGGGATTTTAACAAGAACATACTGAATATTACTTGTTATA...</td>\n",
       "      <td>True</td>\n",
       "      <td>GCCGCGCCAGC</td>\n",
       "      <td>True</td>\n",
       "      <td>ACCACCTTCATTGA</td>\n",
       "      <td>True</td>\n",
       "      <td>0</td>\n",
       "    </tr>\n",
       "    <tr>\n",
       "      <th>1</th>\n",
       "      <td>&lt;NA&gt;</td>\n",
       "      <td>False</td>\n",
       "      <td>ACGAGAGATGG</td>\n",
       "      <td>True</td>\n",
       "      <td>CTAAGATAATCACG</td>\n",
       "      <td>True</td>\n",
       "      <td>0</td>\n",
       "    </tr>\n",
       "    <tr>\n",
       "      <th>2</th>\n",
       "      <td>GAACGGCATAAGGAGAACGTACAGAATAAGATAAAGCAAATCGATA...</td>\n",
       "      <td>True</td>\n",
       "      <td>CACGACACCAC</td>\n",
       "      <td>True</td>\n",
       "      <td>CAGTGGACCCTGTG</td>\n",
       "      <td>True</td>\n",
       "      <td>0</td>\n",
       "    </tr>\n",
       "    <tr>\n",
       "      <th>3</th>\n",
       "      <td>GTTATCTGCATAGATACCTTCCTACAGACCAAAAAGTACATGCTCA...</td>\n",
       "      <td>True</td>\n",
       "      <td>TGCCATCCCTT</td>\n",
       "      <td>True</td>\n",
       "      <td>GGATTTCTAGTCCC</td>\n",
       "      <td>True</td>\n",
       "      <td>0</td>\n",
       "    </tr>\n",
       "    <tr>\n",
       "      <th>4</th>\n",
       "      <td>AAGGAAAACTTCCTTACAGATATTAACGAGGCTTCCAAGAAGAACC...</td>\n",
       "      <td>True</td>\n",
       "      <td>CCTCTTTCTGC</td>\n",
       "      <td>True</td>\n",
       "      <td>GTCGTGGCCACCAC</td>\n",
       "      <td>True</td>\n",
       "      <td>0</td>\n",
       "    </tr>\n",
       "  </tbody>\n",
       "</table>\n",
       "</div>"
      ],
      "text/plain": [
       "                                                  AD  AD_qual        AD_BC  \\\n",
       "0  AATCATCGGGATTTTAACAAGAACATACTGAATATTACTTGTTATA...     True  GCCGCGCCAGC   \n",
       "1                                               <NA>    False  ACGAGAGATGG   \n",
       "2  GAACGGCATAAGGAGAACGTACAGAATAAGATAAAGCAAATCGATA...     True  CACGACACCAC   \n",
       "3  GTTATCTGCATAGATACCTTCCTACAGACCAAAAAGTACATGCTCA...     True  TGCCATCCCTT   \n",
       "4  AAGGAAAACTTCCTTACAGATATTAACGAGGCTTCCAAGAAGAACC...     True  CCTCTTTCTGC   \n",
       "\n",
       "   AD_BC_qual         RPTR_BC  RPTR_BC_qual  Designed  \n",
       "0        True  ACCACCTTCATTGA          True         0  \n",
       "1        True  CTAAGATAATCACG          True         0  \n",
       "2        True  CAGTGGACCCTGTG          True         0  \n",
       "3        True  GGATTTCTAGTCCC          True         0  \n",
       "4        True  GTCGTGGCCACCAC          True         0  "
      ]
     },
     "execution_count": 7,
     "metadata": {},
     "output_type": "execute_result"
    }
   ],
   "source": [
    "mapper = initial_map.BarcodeMapper(seq_file = \"/global/scratch/projects/fc_mvslab/data/sequencing/czb_new_sept2025/Marissa/results/Plasm_step1_S1.fastq.gz.assembled.fastq\",\n",
    "                        bc_names = [\"AD\", \"AD_BC\", \"RPTR_BC\"],\n",
    "                        preceders = [\"AGGAGCA\", \"GGCCTC\", \"CTCGAG\"],\n",
    "                        posts = [\"TGATAAG\", \"GGGCCC\", \"GGCCGC\"],\n",
    "                        lengths = [120, 11, 14],\n",
    "                      reverse_complement = False,\n",
    "                      txt_path = \"../data/plasm_step1_reads_shortened.txt\")\n",
    "mapped_df = mapper.create_map()\n",
    "mapped_df.head()"
   ]
  },
  {
   "cell_type": "code",
   "execution_count": 17,
   "id": "0680e50d-9b0f-45f1-93d7-6bee7c601e7a",
   "metadata": {},
   "outputs": [
    {
     "name": "stdout",
     "output_type": "stream",
     "text": [
      "[########################################] | 100% Completed | 117.98 s\n"
     ]
    }
   ],
   "source": [
    "with ProgressBar():\n",
    "    mapped_df.to_parquet(\n",
    "        '/global/scratch/projects/fc_mvslab/OpenProjects/Sanjana/TREBL/data/Plasm_step1_S1.parquet',\n",
    "        engine='pyarrow',\n",
    "        write_index=False\n",
    "    )"
   ]
  },
  {
   "cell_type": "markdown",
   "id": "ba7c3b1f-155a-48d8-ad43-2ca1feb2632c",
   "metadata": {},
   "source": [
    "# refining map"
   ]
  },
  {
   "cell_type": "code",
   "execution_count": 8,
   "id": "8129ecbc-bce6-4377-be9a-19090d80956d",
   "metadata": {},
   "outputs": [],
   "source": [
    "! rm /global/scratch/projects/fc_mvslab/OpenProjects/Sanjana/TREBL/duckdb/Plasm_step1_S1.db"
   ]
  },
  {
   "cell_type": "code",
   "execution_count": 5,
   "id": "ee5feec4-98f1-46b1-ba08-ac643a251da0",
   "metadata": {},
   "outputs": [],
   "source": [
    "refiner = map_refiner.MapRefiner(db_path = \"/global/scratch/projects/fc_mvslab/OpenProjects/Sanjana/TREBL/duckdb/Plasm_step1_S1.db\",\n",
    "                     cols = [\"AD\", \"AD_BC\", \"RPTR_BC\"],\n",
    "                     reads_threshold = 5,\n",
    "                     column_pairs = [(\"AD\", \"AD_BC\"), (\"AD_BC\", \"RPTR_BC\")],\n",
    "                    design_check = False)"
   ]
  },
  {
   "cell_type": "code",
   "execution_count": 28,
   "id": "a0644e44-7398-4782-ae57-0666e3245f10",
   "metadata": {},
   "outputs": [
    {
     "name": "stderr",
     "output_type": "stream",
     "text": [
      "Refining maps:  20%|██        | 1/5 [00:01<00:06,  1.70s/step]"
     ]
    },
    {
     "data": {
      "application/vnd.jupyter.widget-view+json": {
       "model_id": "c23b6ed5c9fb421083138e4eb608e238",
       "version_major": 2,
       "version_minor": 0
      },
      "text/plain": [
       "FloatProgress(value=0.0, layout=Layout(width='auto'), style=ProgressStyle(bar_color='black'))"
      ]
     },
     "metadata": {},
     "output_type": "display_data"
    },
    {
     "name": "stderr",
     "output_type": "stream",
     "text": [
      "Refining maps:  40%|████      | 2/5 [00:06<00:09,  3.26s/step]"
     ]
    },
    {
     "data": {
      "application/vnd.jupyter.widget-view+json": {
       "model_id": "dce50c1396d64496b8111086551081d1",
       "version_major": 2,
       "version_minor": 0
      },
      "text/plain": [
       "FloatProgress(value=0.0, layout=Layout(width='auto'), style=ProgressStyle(bar_color='black'))"
      ]
     },
     "metadata": {},
     "output_type": "display_data"
    },
    {
     "name": "stderr",
     "output_type": "stream",
     "text": [
      "Refining maps: 100%|██████████| 5/5 [00:12<00:00,  2.54s/step]\n"
     ]
    }
   ],
   "source": [
    "refiner.refine_map_from_parquet('/global/scratch/projects/fc_mvslab/OpenProjects/Sanjana/TREBL/data/Plasm_step1_S1.parquet/*')"
   ]
  },
  {
   "cell_type": "code",
   "execution_count": 6,
   "id": "cad85c02-b1d3-4099-b2ac-62dd9f16ea8b",
   "metadata": {},
   "outputs": [
    {
     "data": {
      "text/html": [
       "<div>\n",
       "<style scoped>\n",
       "    .dataframe tbody tr th:only-of-type {\n",
       "        vertical-align: middle;\n",
       "    }\n",
       "\n",
       "    .dataframe tbody tr th {\n",
       "        vertical-align: top;\n",
       "    }\n",
       "\n",
       "    .dataframe thead th {\n",
       "        text-align: right;\n",
       "    }\n",
       "</style>\n",
       "<table border=\"1\" class=\"dataframe\">\n",
       "  <thead>\n",
       "    <tr style=\"text-align: right;\">\n",
       "      <th></th>\n",
       "      <th>AD</th>\n",
       "      <th>AD_BC</th>\n",
       "      <th>RPTR_BC</th>\n",
       "      <th>count</th>\n",
       "    </tr>\n",
       "  </thead>\n",
       "  <tbody>\n",
       "    <tr>\n",
       "      <th>0</th>\n",
       "      <td>AATAATGACGTCATAACGAAGACGTTGTCAAGGATGAGACTATCAA...</td>\n",
       "      <td>ATCGCGTCTAT</td>\n",
       "      <td>CGTTCGCTGTGCCT</td>\n",
       "      <td>206</td>\n",
       "    </tr>\n",
       "    <tr>\n",
       "      <th>1</th>\n",
       "      <td>AAAGAGGTGATGTTTGAAAAGTACAACAAGCTGCTTTCGTCTTATA...</td>\n",
       "      <td>GCGGGAGGTCA</td>\n",
       "      <td>AGCTCACGGCGAAA</td>\n",
       "      <td>185</td>\n",
       "    </tr>\n",
       "    <tr>\n",
       "      <th>2</th>\n",
       "      <td>GAGAAGAACAACCTGAACGATTTGCTCTCGTAGATAACGATAAATC...</td>\n",
       "      <td>TCAGAACAACG</td>\n",
       "      <td>GCACGGACCGAGAC</td>\n",
       "      <td>135</td>\n",
       "    </tr>\n",
       "    <tr>\n",
       "      <th>3</th>\n",
       "      <td>CCTAAGAATGAGATCGACAAAAACGACGAGGAAAATCTTAAAGAAT...</td>\n",
       "      <td>CCAGCAATACG</td>\n",
       "      <td>TGCTTGTGTGACTT</td>\n",
       "      <td>134</td>\n",
       "    </tr>\n",
       "    <tr>\n",
       "      <th>4</th>\n",
       "      <td>TCGATATTCCCGACCAGGACTTTCCCTATATAATTGCGTGGATTCT...</td>\n",
       "      <td>ACACATCGTCT</td>\n",
       "      <td>GAACACCTGCGGCT</td>\n",
       "      <td>131</td>\n",
       "    </tr>\n",
       "    <tr>\n",
       "      <th>...</th>\n",
       "      <td>...</td>\n",
       "      <td>...</td>\n",
       "      <td>...</td>\n",
       "      <td>...</td>\n",
       "    </tr>\n",
       "    <tr>\n",
       "      <th>175791</th>\n",
       "      <td>ATAGCAGGGTTGAAACGGATGGGCATCTCAACGTTGGGCGGCAAGG...</td>\n",
       "      <td>TGGGTGGGGCA</td>\n",
       "      <td>CAGATACTCAAGCG</td>\n",
       "      <td>6</td>\n",
       "    </tr>\n",
       "    <tr>\n",
       "      <th>175792</th>\n",
       "      <td>TTCTCCAAAAATGGCAGCATGAGTTCTATACCTAGTGACTACAACA...</td>\n",
       "      <td>AACTAGTGAGC</td>\n",
       "      <td>CAAACGACGCGAAT</td>\n",
       "      <td>6</td>\n",
       "    </tr>\n",
       "    <tr>\n",
       "      <th>175793</th>\n",
       "      <td>TCCGAGTATGAGGAGTTAGACATAAACGACATCTATGTTCCACGGG...</td>\n",
       "      <td>CAGCCGACACC</td>\n",
       "      <td>AAGGCACTGTCTCT</td>\n",
       "      <td>6</td>\n",
       "    </tr>\n",
       "    <tr>\n",
       "      <th>175794</th>\n",
       "      <td>TCCGAGGCTGCTGGGGGTGCGTCGGAAGGAGTGTTTAGAGAAGCAG...</td>\n",
       "      <td>ACCTGCTTGCT</td>\n",
       "      <td>CCCCTACAACGACT</td>\n",
       "      <td>6</td>\n",
       "    </tr>\n",
       "    <tr>\n",
       "      <th>175795</th>\n",
       "      <td>CTGATTCCGGACTATTTCCTTAAGAATACCGTACAGGAGGACGAGA...</td>\n",
       "      <td>TTTGACATGTA</td>\n",
       "      <td>TGCCATACCCCAGC</td>\n",
       "      <td>6</td>\n",
       "    </tr>\n",
       "  </tbody>\n",
       "</table>\n",
       "<p>175796 rows × 4 columns</p>\n",
       "</div>"
      ],
      "text/plain": [
       "                                                       AD        AD_BC  \\\n",
       "0       AATAATGACGTCATAACGAAGACGTTGTCAAGGATGAGACTATCAA...  ATCGCGTCTAT   \n",
       "1       AAAGAGGTGATGTTTGAAAAGTACAACAAGCTGCTTTCGTCTTATA...  GCGGGAGGTCA   \n",
       "2       GAGAAGAACAACCTGAACGATTTGCTCTCGTAGATAACGATAAATC...  TCAGAACAACG   \n",
       "3       CCTAAGAATGAGATCGACAAAAACGACGAGGAAAATCTTAAAGAAT...  CCAGCAATACG   \n",
       "4       TCGATATTCCCGACCAGGACTTTCCCTATATAATTGCGTGGATTCT...  ACACATCGTCT   \n",
       "...                                                   ...          ...   \n",
       "175791  ATAGCAGGGTTGAAACGGATGGGCATCTCAACGTTGGGCGGCAAGG...  TGGGTGGGGCA   \n",
       "175792  TTCTCCAAAAATGGCAGCATGAGTTCTATACCTAGTGACTACAACA...  AACTAGTGAGC   \n",
       "175793  TCCGAGTATGAGGAGTTAGACATAAACGACATCTATGTTCCACGGG...  CAGCCGACACC   \n",
       "175794  TCCGAGGCTGCTGGGGGTGCGTCGGAAGGAGTGTTTAGAGAAGCAG...  ACCTGCTTGCT   \n",
       "175795  CTGATTCCGGACTATTTCCTTAAGAATACCGTACAGGAGGACGAGA...  TTTGACATGTA   \n",
       "\n",
       "               RPTR_BC  count  \n",
       "0       CGTTCGCTGTGCCT    206  \n",
       "1       AGCTCACGGCGAAA    185  \n",
       "2       GCACGGACCGAGAC    135  \n",
       "3       TGCTTGTGTGACTT    134  \n",
       "4       GAACACCTGCGGCT    131  \n",
       "...                ...    ...  \n",
       "175791  CAGATACTCAAGCG      6  \n",
       "175792  CAAACGACGCGAAT      6  \n",
       "175793  AAGGCACTGTCTCT      6  \n",
       "175794  CCCCTACAACGACT      6  \n",
       "175795  TGCCATACCCCAGC      6  \n",
       "\n",
       "[175796 rows x 4 columns]"
      ]
     },
     "execution_count": 6,
     "metadata": {},
     "output_type": "execute_result"
    }
   ],
   "source": [
    "refiner.get_map_df('map5_thresholded')"
   ]
  },
  {
   "cell_type": "markdown",
   "id": "ca2a7062-5682-4e92-91a0-4e5e95d11d1b",
   "metadata": {},
   "source": [
    "# Step 2"
   ]
  },
  {
   "cell_type": "code",
   "execution_count": 14,
   "id": "d43391ff-7272-4cbb-b8b1-8a19cc9378ed",
   "metadata": {},
   "outputs": [
    {
     "data": {
      "text/plain": [
       "['/global/scratch/projects/fc_mvslab/data/sequencing/czb_new_sept2025/Marissa/results/Plasm_RP_step2_S4.fastq.gz.assembled.fastq',\n",
       " '/global/scratch/projects/fc_mvslab/data/sequencing/czb_new_sept2025/Marissa/results/Plasm_AD_step2_S3.fastq.gz.assembled.fastq']"
      ]
     },
     "execution_count": 14,
     "metadata": {},
     "output_type": "execute_result"
    }
   ],
   "source": [
    "plasm_step2_paths = [\"/global/scratch/projects/fc_mvslab/data/sequencing/czb_new_sept2025/Marissa/results/Plasm_RP_step2_S4.fastq.gz.assembled.fastq\",\n",
    "                    \"/global/scratch/projects/fc_mvslab/data/sequencing/czb_new_sept2025/Marissa/results/Plasm_AD_step2_S3.fastq.gz.assembled.fastq\"]\n",
    "plasm_step2_paths"
   ]
  },
  {
   "cell_type": "code",
   "execution_count": 27,
   "id": "01654990-8ef1-4279-b4be-3279eef468a2",
   "metadata": {},
   "outputs": [
    {
     "name": "stdout",
     "output_type": "stream",
     "text": [
      "Shortening /global/scratch/projects/fc_mvslab/data/sequencing/czb_new_sept2025/Marissa/results/Plasm_RP_step2_S4.fastq.gz.assembled.fastq -> ../data/plasm_step2_AD_0.txt\n",
      "Shortening /global/scratch/projects/fc_mvslab/data/sequencing/czb_new_sept2025/Marissa/results/Plasm_AD_step2_S3.fastq.gz.assembled.fastq -> ../data/plasm_step2_AD_1.txt\n",
      "('../data/plasm_step2_AD_0.txt', '../data/plasm_step2_AD_1.txt')\n"
     ]
    }
   ],
   "source": [
    "plasm_AD_step2_dd = preprocess.load_and_shorten_files(plasm_step2_paths,\n",
    "                                  reverse_complement=True,\n",
    "                                  txt_path = \"../data/plasm_step2_AD.txt\")"
   ]
  },
  {
   "cell_type": "code",
   "execution_count": 28,
   "id": "2c89ffc7-ca0a-4347-b714-2f7ecbf400f2",
   "metadata": {},
   "outputs": [
    {
     "data": {
      "text/html": [
       "<div>\n",
       "<style scoped>\n",
       "    .dataframe tbody tr th:only-of-type {\n",
       "        vertical-align: middle;\n",
       "    }\n",
       "\n",
       "    .dataframe tbody tr th {\n",
       "        vertical-align: top;\n",
       "    }\n",
       "\n",
       "    .dataframe thead th {\n",
       "        text-align: right;\n",
       "    }\n",
       "</style>\n",
       "<table border=\"1\" class=\"dataframe\">\n",
       "  <thead>\n",
       "    <tr style=\"text-align: right;\">\n",
       "      <th></th>\n",
       "      <th>sequence</th>\n",
       "      <th>RPTR_BC</th>\n",
       "      <th>RPTR_BC_qual</th>\n",
       "      <th>AD_BC</th>\n",
       "      <th>AD_BC_qual</th>\n",
       "    </tr>\n",
       "  </thead>\n",
       "  <tbody>\n",
       "    <tr>\n",
       "      <th>0</th>\n",
       "      <td>ATGGTGATGGTCCAGTCTTGTTACCAGACAACCATTACTTATCCAC...</td>\n",
       "      <td>&lt;NA&gt;</td>\n",
       "      <td>False</td>\n",
       "      <td>&lt;NA&gt;</td>\n",
       "      <td>False</td>\n",
       "    </tr>\n",
       "    <tr>\n",
       "      <th>1</th>\n",
       "      <td>ATGGTGATGGTCCAGTCTTGTTACCAGACAACCATTACTTATCCAC...</td>\n",
       "      <td>&lt;NA&gt;</td>\n",
       "      <td>False</td>\n",
       "      <td>&lt;NA&gt;</td>\n",
       "      <td>False</td>\n",
       "    </tr>\n",
       "    <tr>\n",
       "      <th>2</th>\n",
       "      <td>CTATGGTGATGGTCCAGTCTTGTTACCAGACAACCATTACTTATCC...</td>\n",
       "      <td>CACATAACCCGTCA</td>\n",
       "      <td>True</td>\n",
       "      <td>&lt;NA&gt;</td>\n",
       "      <td>False</td>\n",
       "    </tr>\n",
       "    <tr>\n",
       "      <th>3</th>\n",
       "      <td>CTATGGTGATGGTCCAGTCTTGTTACCAGACAACCATTACTTATCC...</td>\n",
       "      <td>CCACTCTCGGATCT</td>\n",
       "      <td>True</td>\n",
       "      <td>&lt;NA&gt;</td>\n",
       "      <td>False</td>\n",
       "    </tr>\n",
       "    <tr>\n",
       "      <th>4</th>\n",
       "      <td>TATGGTGATGGTCCAGTCTTGTTACCAGACAACCATTACTTATCCA...</td>\n",
       "      <td>&lt;NA&gt;</td>\n",
       "      <td>False</td>\n",
       "      <td>&lt;NA&gt;</td>\n",
       "      <td>False</td>\n",
       "    </tr>\n",
       "  </tbody>\n",
       "</table>\n",
       "</div>"
      ],
      "text/plain": [
       "                                            sequence         RPTR_BC  \\\n",
       "0  ATGGTGATGGTCCAGTCTTGTTACCAGACAACCATTACTTATCCAC...            <NA>   \n",
       "1  ATGGTGATGGTCCAGTCTTGTTACCAGACAACCATTACTTATCCAC...            <NA>   \n",
       "2  CTATGGTGATGGTCCAGTCTTGTTACCAGACAACCATTACTTATCC...  CACATAACCCGTCA   \n",
       "3  CTATGGTGATGGTCCAGTCTTGTTACCAGACAACCATTACTTATCC...  CCACTCTCGGATCT   \n",
       "4  TATGGTGATGGTCCAGTCTTGTTACCAGACAACCATTACTTATCCA...            <NA>   \n",
       "\n",
       "   RPTR_BC_qual AD_BC  AD_BC_qual  \n",
       "0         False  <NA>       False  \n",
       "1         False  <NA>       False  \n",
       "2          True  <NA>       False  \n",
       "3          True  <NA>       False  \n",
       "4         False  <NA>       False  "
      ]
     },
     "execution_count": 28,
     "metadata": {},
     "output_type": "execute_result"
    }
   ],
   "source": [
    "plasm_AD_step2_dd = finder.add_barcode(plasm_AD_step2_dd, \"RPTR_BC\", \"CTCGAG\", \"GGCCGC\", 14)\n",
    "plasm_AD_step2_dd = finder.add_barcode(plasm_AD_step2_dd, \"AD_BC\", \"GGCCTC\", \"GGGCCC\", 11)\n",
    "plasm_AD_step2_dd.head()"
   ]
  },
  {
   "cell_type": "markdown",
   "id": "d9adf7a1-8062-4bc4-b0e3-1559c2685ec5",
   "metadata": {},
   "source": [
    "# next steps:\n",
    "\n",
    "- add to compexity.py\n",
    "- check one bc type at a type\n",
    "- how many RP bc from map1? of total RP bc\n",
    "- how many AD bc from map1? of total AD bc\n",
    "- how many unique AD bc-RP bc pairs are in map 1? of total AD bc-RP bc pairs"
   ]
  },
  {
   "cell_type": "code",
   "execution_count": 29,
   "id": "30f00955-59b4-4ad0-afba-ba1a08f35d41",
   "metadata": {},
   "outputs": [],
   "source": [
    "# How many RP BC from map 1 of total RP BC"
   ]
  },
  {
   "cell_type": "code",
   "execution_count": 30,
   "id": "840fcfd8-23d6-43a0-866f-c8abff71bee6",
   "metadata": {},
   "outputs": [
    {
     "name": "stdout",
     "output_type": "stream",
     "text": [
      "Warning: The path '../output/plasm_AD_step2_dd_parquet' already exists and will be added to.\n",
      "[########################################] | 100% Completed | 194.28 s\n"
     ]
    }
   ],
   "source": [
    "preprocess.save_parquet(plasm_AD_step2_dd, \"../output/plasm_AD_step2_dd_parquet\")"
   ]
  },
  {
   "cell_type": "code",
   "execution_count": 31,
   "id": "e93de893-8f67-4a71-81c9-214f76feb2db",
   "metadata": {},
   "outputs": [],
   "source": [
    "con = duckdb.connect(\"/global/scratch/projects/fc_mvslab/OpenProjects/Sanjana/TREBL/duckdb/Plasm_step1_S1.db\")"
   ]
  },
  {
   "cell_type": "code",
   "execution_count": 35,
   "id": "4534aef1-bf36-4257-aee3-9f3c5811eaa8",
   "metadata": {},
   "outputs": [
    {
     "data": {
      "application/vnd.jupyter.widget-view+json": {
       "model_id": "8ea5fe0852f047c691c0598c37e19905",
       "version_major": 2,
       "version_minor": 0
      },
      "text/plain": [
       "FloatProgress(value=0.0, layout=Layout(width='auto'), style=ProgressStyle(bar_color='black'))"
      ]
     },
     "metadata": {},
     "output_type": "display_data"
    },
    {
     "data": {
      "text/plain": [
       "<duckdb.duckdb.DuckDBPyConnection at 0x1530e6cbec30>"
      ]
     },
     "execution_count": 35,
     "metadata": {},
     "output_type": "execute_result"
    }
   ],
   "source": [
    "con.execute(\"CREATE OR REPLACE TABLE step2_complexity AS SELECT * FROM read_parquet('../output/plasm_AD_step2_dd_parquet/*')\")"
   ]
  },
  {
   "cell_type": "code",
   "execution_count": 37,
   "id": "2c85277d-309c-4dd7-9e32-7037ddf93058",
   "metadata": {},
   "outputs": [
    {
     "data": {
      "text/html": [
       "<div>\n",
       "<style scoped>\n",
       "    .dataframe tbody tr th:only-of-type {\n",
       "        vertical-align: middle;\n",
       "    }\n",
       "\n",
       "    .dataframe tbody tr th {\n",
       "        vertical-align: top;\n",
       "    }\n",
       "\n",
       "    .dataframe thead th {\n",
       "        text-align: right;\n",
       "    }\n",
       "</style>\n",
       "<table border=\"1\" class=\"dataframe\">\n",
       "  <thead>\n",
       "    <tr style=\"text-align: right;\">\n",
       "      <th></th>\n",
       "      <th>sequence</th>\n",
       "      <th>RPTR_BC</th>\n",
       "      <th>RPTR_BC_qual</th>\n",
       "      <th>AD_BC</th>\n",
       "      <th>AD_BC_qual</th>\n",
       "    </tr>\n",
       "  </thead>\n",
       "  <tbody>\n",
       "    <tr>\n",
       "      <th>0</th>\n",
       "      <td>ATGGTGATGGTCCAGTCTTGTTACCAGACAACCATTACTTATCCAC...</td>\n",
       "      <td>None</td>\n",
       "      <td>False</td>\n",
       "      <td>None</td>\n",
       "      <td>False</td>\n",
       "    </tr>\n",
       "    <tr>\n",
       "      <th>1</th>\n",
       "      <td>ATGGTGATGGTCCAGTCTTGTTACCAGACAACCATTACTTATCCAC...</td>\n",
       "      <td>None</td>\n",
       "      <td>False</td>\n",
       "      <td>None</td>\n",
       "      <td>False</td>\n",
       "    </tr>\n",
       "    <tr>\n",
       "      <th>2</th>\n",
       "      <td>CTATGGTGATGGTCCAGTCTTGTTACCAGACAACCATTACTTATCC...</td>\n",
       "      <td>CACATAACCCGTCA</td>\n",
       "      <td>True</td>\n",
       "      <td>None</td>\n",
       "      <td>False</td>\n",
       "    </tr>\n",
       "    <tr>\n",
       "      <th>3</th>\n",
       "      <td>CTATGGTGATGGTCCAGTCTTGTTACCAGACAACCATTACTTATCC...</td>\n",
       "      <td>CCACTCTCGGATCT</td>\n",
       "      <td>True</td>\n",
       "      <td>None</td>\n",
       "      <td>False</td>\n",
       "    </tr>\n",
       "    <tr>\n",
       "      <th>4</th>\n",
       "      <td>TATGGTGATGGTCCAGTCTTGTTACCAGACAACCATTACTTATCCA...</td>\n",
       "      <td>None</td>\n",
       "      <td>False</td>\n",
       "      <td>None</td>\n",
       "      <td>False</td>\n",
       "    </tr>\n",
       "  </tbody>\n",
       "</table>\n",
       "</div>"
      ],
      "text/plain": [
       "                                            sequence         RPTR_BC  \\\n",
       "0  ATGGTGATGGTCCAGTCTTGTTACCAGACAACCATTACTTATCCAC...            None   \n",
       "1  ATGGTGATGGTCCAGTCTTGTTACCAGACAACCATTACTTATCCAC...            None   \n",
       "2  CTATGGTGATGGTCCAGTCTTGTTACCAGACAACCATTACTTATCC...  CACATAACCCGTCA   \n",
       "3  CTATGGTGATGGTCCAGTCTTGTTACCAGACAACCATTACTTATCC...  CCACTCTCGGATCT   \n",
       "4  TATGGTGATGGTCCAGTCTTGTTACCAGACAACCATTACTTATCCA...            None   \n",
       "\n",
       "   RPTR_BC_qual AD_BC  AD_BC_qual  \n",
       "0         False  None       False  \n",
       "1         False  None       False  \n",
       "2          True  None       False  \n",
       "3          True  None       False  \n",
       "4         False  None       False  "
      ]
     },
     "execution_count": 37,
     "metadata": {},
     "output_type": "execute_result"
    }
   ],
   "source": [
    "# How many RP BC from map 1 of total RP BC?\n",
    "con.execute(\"\"\"SELECT * FROM step2_complexity LIMIT 5\"\"\").df()"
   ]
  },
  {
   "cell_type": "code",
   "execution_count": 47,
   "id": "4a5d1e2e-256a-4f4a-9720-4918144f1207",
   "metadata": {},
   "outputs": [],
   "source": [
    "def count_multiple_bc(con, bc_columns):\n",
    "    \"\"\"\n",
    "    Count unique barcodes for multiple columns and return a summary table.\n",
    "\n",
    "    Parameters:\n",
    "        con: DuckDB connection\n",
    "        bc_columns: list of column names (str) to count\n",
    "\n",
    "    Returns:\n",
    "        pandas.DataFrame with one row per BC column\n",
    "    \"\"\"\n",
    "    results = []\n",
    "\n",
    "    for bc in bc_columns:\n",
    "        query = f\"\"\"\n",
    "        SELECT\n",
    "            (SELECT COUNT(DISTINCT {bc}) FROM map5_thresholded) AS unique_bc_in_map5,\n",
    "            (SELECT COUNT(DISTINCT {bc}) FROM step2_complexity) AS unique_bc_in_step2,\n",
    "            (SELECT COUNT(DISTINCT s.{bc})\n",
    "             FROM step2_complexity s\n",
    "             JOIN map5_thresholded m\n",
    "               ON s.{bc} = m.{bc}) AS unique_bc_in_both;\n",
    "        \"\"\"\n",
    "        df = con.execute(query).df()\n",
    "        df.insert(0, \"BC_type\", bc)  # Add column name as first column\n",
    "        results.append(df)\n",
    "\n",
    "    # Combine all rows into a single DataFrame\n",
    "    return pd.concat(results, ignore_index=True)"
   ]
  },
  {
   "cell_type": "code",
   "execution_count": 49,
   "id": "c31b7a40-c43a-42de-b3ae-03152c6deafb",
   "metadata": {},
   "outputs": [
    {
     "data": {
      "text/html": [
       "<div>\n",
       "<style scoped>\n",
       "    .dataframe tbody tr th:only-of-type {\n",
       "        vertical-align: middle;\n",
       "    }\n",
       "\n",
       "    .dataframe tbody tr th {\n",
       "        vertical-align: top;\n",
       "    }\n",
       "\n",
       "    .dataframe thead th {\n",
       "        text-align: right;\n",
       "    }\n",
       "</style>\n",
       "<table border=\"1\" class=\"dataframe\">\n",
       "  <thead>\n",
       "    <tr style=\"text-align: right;\">\n",
       "      <th></th>\n",
       "      <th>BC_type</th>\n",
       "      <th>unique_bc_in_map5</th>\n",
       "      <th>unique_bc_in_step2</th>\n",
       "      <th>unique_bc_in_both</th>\n",
       "    </tr>\n",
       "  </thead>\n",
       "  <tbody>\n",
       "    <tr>\n",
       "      <th>0</th>\n",
       "      <td>AD_BC</td>\n",
       "      <td>175674</td>\n",
       "      <td>645537</td>\n",
       "      <td>86955</td>\n",
       "    </tr>\n",
       "    <tr>\n",
       "      <th>1</th>\n",
       "      <td>RPTR_BC</td>\n",
       "      <td>175796</td>\n",
       "      <td>771465</td>\n",
       "      <td>85882</td>\n",
       "    </tr>\n",
       "  </tbody>\n",
       "</table>\n",
       "</div>"
      ],
      "text/plain": [
       "   BC_type  unique_bc_in_map5  unique_bc_in_step2  unique_bc_in_both\n",
       "0    AD_BC             175674              645537              86955\n",
       "1  RPTR_BC             175796              771465              85882"
      ]
     },
     "execution_count": 49,
     "metadata": {},
     "output_type": "execute_result"
    }
   ],
   "source": [
    "count_multiple_bc(con, [\"AD_BC\", \"RPTR_BC\"])"
   ]
  },
  {
   "cell_type": "code",
   "execution_count": null,
   "id": "b3046fe1-6a18-497a-aa88-a44fc46fb1d6",
   "metadata": {},
   "outputs": [],
   "source": [
    "# Do the RPTR BCs also match an AD BC seen in the step?"
   ]
  },
  {
   "cell_type": "code",
   "execution_count": null,
   "id": "81232a4d-1f7f-4965-bbc5-3177c5acc18a",
   "metadata": {},
   "outputs": [],
   "source": []
  },
  {
   "cell_type": "code",
   "execution_count": null,
   "id": "ea0b7fd1-265a-480c-b874-83422ff59209",
   "metadata": {},
   "outputs": [],
   "source": [
    "# ie for RPTR BC, check if RPTR BC in map\n",
    "# Then, use map to get AD BC corresp to RP BC\n",
    "# Then check if those AD BCs are in step 2\n",
    "# Then count unqiue RP BCs remaining"
   ]
  },
  {
   "cell_type": "code",
   "execution_count": null,
   "id": "d7179dd2-2ef2-4d20-a5f1-b4e6752f6882",
   "metadata": {},
   "outputs": [],
   "source": []
  },
  {
   "cell_type": "code",
   "execution_count": null,
   "id": "955b3d76-9f5c-4583-b7b8-2106fdafefd0",
   "metadata": {},
   "outputs": [],
   "source": []
  },
  {
   "cell_type": "code",
   "execution_count": null,
   "id": "fbca1813-48ee-41b6-ad79-f7edaf5b1be9",
   "metadata": {},
   "outputs": [],
   "source": []
  },
  {
   "cell_type": "code",
   "execution_count": null,
   "id": "2cb5b738-5114-460a-91dc-ae45ef463db3",
   "metadata": {},
   "outputs": [],
   "source": []
  },
  {
   "cell_type": "code",
   "execution_count": null,
   "id": "01ad3df6-be05-4630-975f-7d1efb3632e4",
   "metadata": {},
   "outputs": [],
   "source": []
  },
  {
   "cell_type": "code",
   "execution_count": null,
   "id": "fde590ad-2e25-4574-bc8f-4667edfaab47",
   "metadata": {},
   "outputs": [],
   "source": []
  }
 ],
 "metadata": {
  "kernelspec": {
   "display_name": "Python 3 (ipykernel)",
   "language": "python",
   "name": "python3"
  },
  "language_info": {
   "codemirror_mode": {
    "name": "ipython",
    "version": 3
   },
   "file_extension": ".py",
   "mimetype": "text/x-python",
   "name": "python",
   "nbconvert_exporter": "python",
   "pygments_lexer": "ipython3",
   "version": "3.11.7"
  }
 },
 "nbformat": 4,
 "nbformat_minor": 5
}
