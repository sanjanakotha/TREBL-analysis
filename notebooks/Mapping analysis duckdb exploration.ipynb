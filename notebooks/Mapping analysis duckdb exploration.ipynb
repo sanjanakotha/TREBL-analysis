{
 "cells": [
  {
   "cell_type": "code",
   "execution_count": 1,
   "id": "8285bc94-1f90-4031-8103-c7236b7be29f",
   "metadata": {},
   "outputs": [],
   "source": [
    "%load_ext autoreload\n",
    "%autoreload 2"
   ]
  },
  {
   "cell_type": "code",
   "execution_count": 3,
   "id": "160f5781-6844-4f8d-974b-bf346dcb3275",
   "metadata": {},
   "outputs": [],
   "source": [
    "import dask.dataframe as dd\n",
    "import pandas as pd\n",
    "import numpy as np\n",
    "import subprocess\n",
    "import dask.dataframe as dd\n",
    "from dask.diagnostics import ProgressBar\n",
    "from Bio.Seq import Seq\n",
    "from dask.distributed import wait\n",
    "from dask.distributed import Client\n",
    "import os\n",
    "\n",
    "# os.chdir(\"scripts\")\n",
    "#from mapping import BarcodeMapper"
   ]
  },
  {
   "cell_type": "code",
   "execution_count": 4,
   "id": "e6a383b5-e81e-4954-88ed-a6b3d4e2b62b",
   "metadata": {},
   "outputs": [],
   "source": [
    "import duckdb"
   ]
  },
  {
   "cell_type": "code",
   "execution_count": 5,
   "id": "7730195c-8f69-4d92-ae98-bde6273873fa",
   "metadata": {},
   "outputs": [
    {
     "data": {
      "application/vnd.jupyter.widget-view+json": {
       "model_id": "8a013792ee6d4baf8c846507a89c921d",
       "version_major": 2,
       "version_minor": 0
      },
      "text/plain": [
       "FloatProgress(value=0.0, layout=Layout(width='auto'), style=ProgressStyle(bar_color='black'))"
      ]
     },
     "metadata": {},
     "output_type": "display_data"
    },
    {
     "data": {
      "text/plain": [
       "<duckdb.duckdb.DuckDBPyConnection at 0x14ddec044bb0>"
      ]
     },
     "execution_count": 5,
     "metadata": {},
     "output_type": "execute_result"
    }
   ],
   "source": [
    "con = duckdb.connect(\"/global/scratch/projects/fc_mvslab/OpenProjects/Sanjana/TREBL/duckdb/test.db\")\n",
    "\n",
    "# For CSV\n",
    "con.execute(\"\"\"\n",
    "    CREATE TABLE seq_file AS \n",
    "    SELECT column0 AS sequence \n",
    "    FROM read_csv_auto('/global/scratch/projects/fc_mvslab/data/sequencing/CZB_Feb2024/A10_A11/results/A10_1_sequences.txt', HEADER = False)\n",
    "\"\"\")"
   ]
  },
  {
   "cell_type": "code",
   "execution_count": 8,
   "id": "d9e6f69d-c1ed-417a-8bc8-b9578a5ea99f",
   "metadata": {},
   "outputs": [
    {
     "name": "stdout",
     "output_type": "stream",
     "text": [
      "Number of rows: 138420998\n"
     ]
    }
   ],
   "source": [
    "row_count = con.execute(\"SELECT COUNT(*) AS num_rows FROM seq_file\").fetchone()[0]\n",
    "print(f\"Number of rows: {row_count}\")"
   ]
  },
  {
   "cell_type": "code",
   "execution_count": null,
   "id": "1de634b0-c694-489b-9053-46639a944f56",
   "metadata": {},
   "outputs": [],
   "source": []
  },
  {
   "cell_type": "code",
   "execution_count": null,
   "id": "a7e31d93-2004-42fe-8fa5-2db90dd54444",
   "metadata": {},
   "outputs": [],
   "source": []
  },
  {
   "cell_type": "code",
   "execution_count": null,
   "id": "07ae66aa-c538-4fee-a512-c131b26dd480",
   "metadata": {},
   "outputs": [],
   "source": []
  },
  {
   "cell_type": "code",
   "execution_count": 6,
   "id": "3fefc222-b511-4905-827f-4f2ba5c100d4",
   "metadata": {},
   "outputs": [
    {
     "data": {
      "text/html": [
       "<div>\n",
       "<style scoped>\n",
       "    .dataframe tbody tr th:only-of-type {\n",
       "        vertical-align: middle;\n",
       "    }\n",
       "\n",
       "    .dataframe tbody tr th {\n",
       "        vertical-align: top;\n",
       "    }\n",
       "\n",
       "    .dataframe thead th {\n",
       "        text-align: right;\n",
       "    }\n",
       "</style>\n",
       "<table border=\"1\" class=\"dataframe\">\n",
       "  <thead>\n",
       "    <tr style=\"text-align: right;\">\n",
       "      <th></th>\n",
       "      <th>sequence</th>\n",
       "    </tr>\n",
       "  </thead>\n",
       "  <tbody>\n",
       "    <tr>\n",
       "      <th>0</th>\n",
       "      <td>GNTACATAACTAATTACATGAGAGGCCTAACGAGATAACTGCTCGA...</td>\n",
       "    </tr>\n",
       "    <tr>\n",
       "      <th>1</th>\n",
       "      <td>GGCATAACTACTTACATGAGCGTCCTACGACTAATCCGTCTCGAGC...</td>\n",
       "    </tr>\n",
       "    <tr>\n",
       "      <th>2</th>\n",
       "      <td>GGACATAACTACTTACATGAGCGGCCGCACCTGCTCCTTCCTCGAG...</td>\n",
       "    </tr>\n",
       "    <tr>\n",
       "      <th>3</th>\n",
       "      <td>GGACATAACTACTTACATGAGAGGCCTCCTCAGTTCTTCTCTCGAG...</td>\n",
       "    </tr>\n",
       "    <tr>\n",
       "      <th>4</th>\n",
       "      <td>GGACATAACTCCTTACATGAGCGGCCATCATATTTCCTTCCTCGAG...</td>\n",
       "    </tr>\n",
       "  </tbody>\n",
       "</table>\n",
       "</div>"
      ],
      "text/plain": [
       "                                            sequence\n",
       "0  GNTACATAACTAATTACATGAGAGGCCTAACGAGATAACTGCTCGA...\n",
       "1  GGCATAACTACTTACATGAGCGTCCTACGACTAATCCGTCTCGAGC...\n",
       "2  GGACATAACTACTTACATGAGCGGCCGCACCTGCTCCTTCCTCGAG...\n",
       "3  GGACATAACTACTTACATGAGAGGCCTCCTCAGTTCTTCTCTCGAG...\n",
       "4  GGACATAACTCCTTACATGAGCGGCCATCATATTTCCTTCCTCGAG..."
      ]
     },
     "execution_count": 6,
     "metadata": {},
     "output_type": "execute_result"
    }
   ],
   "source": [
    "con.execute(\"SELECT * FROM seq_file LIMIT 5\").fetchdf()"
   ]
  },
  {
   "cell_type": "code",
   "execution_count": null,
   "id": "4f2995a9-9c9b-466f-aa9d-ca5e333295e4",
   "metadata": {},
   "outputs": [
    {
     "data": {
      "application/vnd.jupyter.widget-view+json": {
       "model_id": "a1cb15c017ce44eabff1046ce4014a0f",
       "version_major": 2,
       "version_minor": 0
      },
      "text/plain": [
       "FloatProgress(value=0.0, layout=Layout(width='auto'), style=ProgressStyle(bar_color='black'))"
      ]
     },
     "metadata": {},
     "output_type": "display_data"
    }
   ],
   "source": [
    "# Reverse complement\n",
    "con.execute(\"\"\"\n",
    "CREATE TABLE seq_file_rev AS\n",
    "SELECT \n",
    "    sequence,\n",
    "    reverse(\n",
    "        translate(sequence, 'ACGTacgt', 'TGCAtgca')\n",
    "    ) AS rev_comp\n",
    "FROM seq_file\n",
    "\"\"\")"
   ]
  },
  {
   "cell_type": "code",
   "execution_count": null,
   "id": "2a637ef0-d8b4-46e8-a540-9330840c1b95",
   "metadata": {},
   "outputs": [],
   "source": [
    "df_preview = con.execute(\"SELECT * FROM seq_file_rev LIMIT 5\").fetchdf()\n",
    "print(df_preview)"
   ]
  },
  {
   "cell_type": "code",
   "execution_count": null,
   "id": "d09bdb4c-ee4c-49a6-b99b-8072b4e35000",
   "metadata": {},
   "outputs": [],
   "source": []
  },
  {
   "cell_type": "code",
   "execution_count": null,
   "id": "7d410dae-c194-4d37-92c5-178075ff3137",
   "metadata": {},
   "outputs": [],
   "source": []
  },
  {
   "cell_type": "code",
   "execution_count": null,
   "id": "37cfe624-77cb-4ac2-8d05-96e736808d0d",
   "metadata": {},
   "outputs": [],
   "source": []
  },
  {
   "cell_type": "code",
   "execution_count": null,
   "id": "20dc913e-4696-404b-876c-38f7dde03f2c",
   "metadata": {},
   "outputs": [],
   "source": []
  },
  {
   "cell_type": "code",
   "execution_count": null,
   "id": "766f5e3a-5bbb-4bea-80bf-9d96795eb048",
   "metadata": {},
   "outputs": [],
   "source": []
  }
 ],
 "metadata": {
  "kernelspec": {
   "display_name": "Python 3 (ipykernel)",
   "language": "python",
   "name": "python3"
  },
  "language_info": {
   "codemirror_mode": {
    "name": "ipython",
    "version": 3
   },
   "file_extension": ".py",
   "mimetype": "text/x-python",
   "name": "python",
   "nbconvert_exporter": "python",
   "pygments_lexer": "ipython3",
   "version": "3.11.7"
  }
 },
 "nbformat": 4,
 "nbformat_minor": 5
}
