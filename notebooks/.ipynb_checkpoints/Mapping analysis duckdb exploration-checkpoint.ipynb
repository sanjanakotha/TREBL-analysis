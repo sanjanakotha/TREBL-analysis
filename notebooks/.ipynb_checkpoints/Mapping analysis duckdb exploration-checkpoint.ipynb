{
 "cells": [
  {
   "cell_type": "code",
   "execution_count": 1,
   "id": "8285bc94-1f90-4031-8103-c7236b7be29f",
   "metadata": {},
   "outputs": [],
   "source": [
    "%load_ext autoreload\n",
    "%autoreload 2"
   ]
  },
  {
   "cell_type": "code",
   "execution_count": 4,
   "id": "160f5781-6844-4f8d-974b-bf346dcb3275",
   "metadata": {},
   "outputs": [],
   "source": [
    "import dask.dataframe as dd\n",
    "import pandas as pd\n",
    "import numpy as np\n",
    "import subprocess\n",
    "import dask.dataframe as dd\n",
    "from dask.diagnostics import ProgressBar\n",
    "from Bio.Seq import Seq\n",
    "from dask.distributed import wait\n",
    "from dask.distributed import Client\n",
    "import os\n",
    "\n",
    "# os.chdir(\"scripts\")\n",
    "#from mapping import BarcodeMapper"
   ]
  },
  {
   "cell_type": "code",
   "execution_count": 3,
   "id": "e6a383b5-e81e-4954-88ed-a6b3d4e2b62b",
   "metadata": {},
   "outputs": [],
   "source": [
    "import duckdb"
   ]
  },
  {
   "cell_type": "code",
   "execution_count": 9,
   "id": "7730195c-8f69-4d92-ae98-bde6273873fa",
   "metadata": {},
   "outputs": [
    {
     "data": {
      "application/vnd.jupyter.widget-view+json": {
       "model_id": "b891bdfd239b460ab2cc8f1cea859ceb",
       "version_major": 2,
       "version_minor": 0
      },
      "text/plain": [
       "FloatProgress(value=0.0, layout=Layout(width='auto'), style=ProgressStyle(bar_color='black'))"
      ]
     },
     "metadata": {},
     "output_type": "display_data"
    },
    {
     "data": {
      "text/plain": [
       "<duckdb.duckdb.DuckDBPyConnection at 0x14bb5b8a26f0>"
      ]
     },
     "execution_count": 9,
     "metadata": {},
     "output_type": "execute_result"
    }
   ],
   "source": [
    "con = duckdb.connect(\")\n",
    "\n",
    "# For CSV\n",
    "con.execute(\"\"\"\n",
    "    CREATE TABLE seq_file AS \n",
    "    SELECT column0 AS sequence \n",
    "    FROM read_csv_auto('/global/scratch/projects/fc_mvslab/data/sequencing/CZB_Feb2024/A10_A11/results/A10_1_sequences.txt', HEADER = False)\n",
    "\"\"\")"
   ]
  },
  {
   "cell_type": "code",
   "execution_count": 10,
   "id": "3fefc222-b511-4905-827f-4f2ba5c100d4",
   "metadata": {},
   "outputs": [
    {
     "data": {
      "text/html": [
       "<div>\n",
       "<style scoped>\n",
       "    .dataframe tbody tr th:only-of-type {\n",
       "        vertical-align: middle;\n",
       "    }\n",
       "\n",
       "    .dataframe tbody tr th {\n",
       "        vertical-align: top;\n",
       "    }\n",
       "\n",
       "    .dataframe thead th {\n",
       "        text-align: right;\n",
       "    }\n",
       "</style>\n",
       "<table border=\"1\" class=\"dataframe\">\n",
       "  <thead>\n",
       "    <tr style=\"text-align: right;\">\n",
       "      <th></th>\n",
       "      <th>sequence</th>\n",
       "    </tr>\n",
       "  </thead>\n",
       "  <tbody>\n",
       "    <tr>\n",
       "      <th>0</th>\n",
       "      <td>GNTACATAACTAATTACATGAGAGGCCTAACGAGATAACTGCTCGA...</td>\n",
       "    </tr>\n",
       "    <tr>\n",
       "      <th>1</th>\n",
       "      <td>GGCATAACTACTTACATGAGCGTCCTACGACTAATCCGTCTCGAGC...</td>\n",
       "    </tr>\n",
       "    <tr>\n",
       "      <th>2</th>\n",
       "      <td>GGACATAACTACTTACATGAGCGGCCGCACCTGCTCCTTCCTCGAG...</td>\n",
       "    </tr>\n",
       "    <tr>\n",
       "      <th>3</th>\n",
       "      <td>GGACATAACTACTTACATGAGAGGCCTCCTCAGTTCTTCTCTCGAG...</td>\n",
       "    </tr>\n",
       "    <tr>\n",
       "      <th>4</th>\n",
       "      <td>GGACATAACTCCTTACATGAGCGGCCATCATATTTCCTTCCTCGAG...</td>\n",
       "    </tr>\n",
       "  </tbody>\n",
       "</table>\n",
       "</div>"
      ],
      "text/plain": [
       "                                            sequence\n",
       "0  GNTACATAACTAATTACATGAGAGGCCTAACGAGATAACTGCTCGA...\n",
       "1  GGCATAACTACTTACATGAGCGTCCTACGACTAATCCGTCTCGAGC...\n",
       "2  GGACATAACTACTTACATGAGCGGCCGCACCTGCTCCTTCCTCGAG...\n",
       "3  GGACATAACTACTTACATGAGAGGCCTCCTCAGTTCTTCTCTCGAG...\n",
       "4  GGACATAACTCCTTACATGAGCGGCCATCATATTTCCTTCCTCGAG..."
      ]
     },
     "execution_count": 10,
     "metadata": {},
     "output_type": "execute_result"
    }
   ],
   "source": [
    "con.execute(\"SELECT * FROM seq_file LIMIT 5\").fetchdf()"
   ]
  },
  {
   "cell_type": "code",
   "execution_count": null,
   "id": "23f2138c-59fd-4929-a5c2-67c061160417",
   "metadata": {},
   "outputs": [],
   "source": []
  },
  {
   "cell_type": "code",
   "execution_count": null,
   "id": "4f2995a9-9c9b-466f-aa9d-ca5e333295e4",
   "metadata": {},
   "outputs": [],
   "source": []
  },
  {
   "cell_type": "code",
   "execution_count": null,
   "id": "2a637ef0-d8b4-46e8-a540-9330840c1b95",
   "metadata": {},
   "outputs": [],
   "source": []
  },
  {
   "cell_type": "code",
   "execution_count": null,
   "id": "d09bdb4c-ee4c-49a6-b99b-8072b4e35000",
   "metadata": {},
   "outputs": [],
   "source": []
  },
  {
   "cell_type": "code",
   "execution_count": null,
   "id": "7d410dae-c194-4d37-92c5-178075ff3137",
   "metadata": {},
   "outputs": [],
   "source": []
  },
  {
   "cell_type": "code",
   "execution_count": null,
   "id": "37cfe624-77cb-4ac2-8d05-96e736808d0d",
   "metadata": {},
   "outputs": [],
   "source": []
  },
  {
   "cell_type": "code",
   "execution_count": null,
   "id": "20dc913e-4696-404b-876c-38f7dde03f2c",
   "metadata": {},
   "outputs": [],
   "source": []
  },
  {
   "cell_type": "code",
   "execution_count": null,
   "id": "766f5e3a-5bbb-4bea-80bf-9d96795eb048",
   "metadata": {},
   "outputs": [],
   "source": []
  }
 ],
 "metadata": {
  "kernelspec": {
   "display_name": "Python 3 (ipykernel)",
   "language": "python",
   "name": "python3"
  },
  "language_info": {
   "codemirror_mode": {
    "name": "ipython",
    "version": 3
   },
   "file_extension": ".py",
   "mimetype": "text/x-python",
   "name": "python",
   "nbconvert_exporter": "python",
   "pygments_lexer": "ipython3",
   "version": "3.11.7"
  }
 },
 "nbformat": 4,
 "nbformat_minor": 5
}
