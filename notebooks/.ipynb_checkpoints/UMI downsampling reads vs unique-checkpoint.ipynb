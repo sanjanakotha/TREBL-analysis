{
 "cells": [
  {
   "cell_type": "code",
   "execution_count": 16,
   "id": "2c82733c-f53b-461f-812f-26764dd945ae",
   "metadata": {},
   "outputs": [],
   "source": [
    "import pandas as pd\n",
    "import numpy as np\n",
    "import seaborn as sns\n",
    "import matplotlib.pyplot as plt"
   ]
  },
  {
   "cell_type": "code",
   "execution_count": null,
   "id": "f4074546-979b-430d-8a62-2d676c2797ca",
   "metadata": {},
   "outputs": [],
   "source": []
  },
  {
   "cell_type": "code",
   "execution_count": 18,
   "id": "c43f855a-2b56-4f3c-94bb-5a8f5b1c5fb2",
   "metadata": {},
   "outputs": [],
   "source": [
    "# This is wrong, I need reads per RPTR UMI."
   ]
  },
  {
   "cell_type": "code",
   "execution_count": null,
   "id": "169b97d0-cb87-405e-b2c0-ccb2f9bb08fe",
   "metadata": {},
   "outputs": [],
   "source": []
  },
  {
   "cell_type": "code",
   "execution_count": null,
   "id": "dfc25695-c7d4-4058-b0fa-d12c271f34d1",
   "metadata": {},
   "outputs": [],
   "source": []
  },
  {
   "cell_type": "code",
   "execution_count": null,
   "id": "bdc0f29b-8e20-44da-a678-19d84f7acf97",
   "metadata": {},
   "outputs": [],
   "source": []
  },
  {
   "cell_type": "code",
   "execution_count": null,
   "id": "d64c5279-246b-48f8-8a35-d33e9e122d76",
   "metadata": {},
   "outputs": [],
   "source": []
  }
 ],
 "metadata": {
  "kernelspec": {
   "display_name": "Python 3 (ipykernel)",
   "language": "python",
   "name": "python3"
  },
  "language_info": {
   "codemirror_mode": {
    "name": "ipython",
    "version": 3
   },
   "file_extension": ".py",
   "mimetype": "text/x-python",
   "name": "python",
   "nbconvert_exporter": "python",
   "pygments_lexer": "ipython3",
   "version": "3.11.7"
  }
 },
 "nbformat": 4,
 "nbformat_minor": 5
}
